{
 "cells": [
  {
   "cell_type": "code",
   "execution_count": 1,
   "id": "a2d57f62",
   "metadata": {},
   "outputs": [
    {
     "name": "stdout",
     "output_type": "stream",
     "text": [
      "Width of the problem is: 1\n"
     ]
    }
   ],
   "source": [
    "from plan_width import calc_width\n",
    "\n",
    "domain_path = \"test_data/PDDL/Blocksworld/domain.pddl\"\n",
    "problem_path = \"test_data/PDDL/Blocksworld/instances/instance-1.pddl\"\n",
    "\n",
    "width = calc_width(domain_path, problem_path)\n",
    "\n",
    "print(f\"Width of the problem is: {width}\")"
   ]
  },
  {
   "cell_type": "code",
   "execution_count": 2,
   "id": "05ce44be",
   "metadata": {},
   "outputs": [
    {
     "name": "stdout",
     "output_type": "stream",
     "text": [
      "Width of instance-1.pddl is: 1\n",
      "Width of instance-10.pddl is: 2\n",
      "Width of instance-2.pddl is: 2\n",
      "Width of instance-3.pddl is: 2\n",
      "Width of instance-4.pddl is: 2\n",
      "Width of instance-5.pddl is: 1\n",
      "Width of instance-6.pddl is: 2\n",
      "Width of instance-7.pddl is: 2\n",
      "Width of instance-8.pddl is: 3\n",
      "Width of instance-9.pddl is: 3\n",
      "Average width of all instances is: 2.0\n"
     ]
    }
   ],
   "source": [
    "import os\n",
    "from plan_width import calc_width\n",
    "\n",
    "domain_path = 'test_data/PDDL/Blocksworld/domain.pddl'\n",
    "instances_dir = 'test_data/PDDL/Blocksworld/instances'\n",
    "widths = []\n",
    "for idx, fname in enumerate(os.listdir(instances_dir)):\n",
    "    if not fname.endswith('.pddl'):\n",
    "        continue\n",
    "    problem_path = os.path.join(instances_dir, fname)\n",
    "    width = calc_width(domain_path, problem_path)\n",
    "    print(f\"Width of {fname} is: {width}\")\n",
    "    widths.append(width)\n",
    "print(f\"Average width of all instances is: {sum(widths) / len(widths)}\")"
   ]
  },
  {
   "cell_type": "code",
   "execution_count": 1,
   "id": "39fbf67d",
   "metadata": {},
   "outputs": [],
   "source": [
    "from llm_engine import Engine\n",
    "from dotenv import load_dotenv\n",
    "import os\n",
    "from openai import AsyncOpenAI\n",
    "\n",
    "mode = \"vllm\"\n",
    "\n",
    "if mode == \"openai\":\n",
    "    # OpenAI client\n",
    "    load_dotenv(\".env\")\n",
    "\n",
    "    OPENAI_API_KEY = os.environ.get(\"OPENAI_API_KEY\")\n",
    "\n",
    "    client_openai = AsyncOpenAI(api_key=OPENAI_API_KEY)\n",
    "\n",
    "    model = \"gpt-4o-mini\"\n",
    "\n",
    "    engine = Engine(client_openai, chat=True, model=model)\n",
    "\n",
    "elif mode == \"vllm\":\n",
    "    NGROK_LINK = \"https://\" + \"fitting-shrimp-pleasantly.ngrok-free.app\"\n",
    "\n",
    "    client_vllm = AsyncOpenAI(\n",
    "        api_key=\"None\",\n",
    "        base_url=str(NGROK_LINK + \"/v1\")\n",
    "    )\n",
    "\n",
    "    model = \"Qwen/Qwen3-14B\"  # \"Qwen/Qwen2.5-32B-Instruct-GPTQ-Int8\"\n",
    "\n",
    "    engine = Engine(client_vllm, chat=True, model=model)\n",
    "\n",
    "else:\n",
    "    raise ValueError(\"Invalid mode. Choose 'openai' or 'vllm'\")"
   ]
  },
  {
   "cell_type": "code",
   "execution_count": 2,
   "id": "97a68a25",
   "metadata": {},
   "outputs": [],
   "source": [
    "import logging\n",
    "import sys\n",
    "logging.basicConfig(level=logging.INFO, handlers=[logging.StreamHandler(sys.stdout)], force=True)\n",
    "#logger = logging.getLogger(\"nov_tot\")\")\n",
    "#logger.setLevel(logging.DEBUG)\n",
    "#logger.addHandler(logging.StreamHandler(sys.stdout))"
   ]
  },
  {
   "cell_type": "code",
   "execution_count": 2,
   "id": "21dd2af2",
   "metadata": {},
   "outputs": [],
   "source": [
    "from task_tester import TaskRunner, TaskType\n",
    "from pddl_translation.translator import StandardTranslator, NatLangTranslator\n",
    "\n",
    "context = \"I am playing with a set of blocks where I need to arrange the blocks into stacks. Here are the actions I can do\\n\\nPick up a block\\nUnstack a block from on top of another block\\nPut down a block\\nStack a block on top of another block\\n\\nI have the following restrictions on my actions:\\nI can only pick up or unstack one block at a time.\\nI can only pick up or unstack a block if my hand is empty.\\nI can only pick up a block if the block is on the table and the block is clear. A block is clear if the block has no other blocks on top of it and if the block is not picked up.\\nI can only unstack a block from on top of another block if the block I am unstacking was really on top of the other block.\\nI can only unstack a block from on top of another block if the block I am unstacking is clear.\\nOnce I pick up or unstack a block, I am holding the block.\\nI can only put down a block that I am holding.\\nI can only stack a block on top of another block if I am holding the block being stacked.\\nI can only stack a block on top of another block if the block onto which I am stacking the block is clear.\\nOnce I put down or stack a block, my hand becomes empty.\\nOnce you stack a block on top of a second block, the second block is no longer clear.\"\n",
    "translator = NatLangTranslator()\n",
    "thinking = False\n",
    "runner = TaskRunner(engine, translator, context)"
   ]
  },
  {
   "cell_type": "code",
   "execution_count": 5,
   "id": "d86f2a25",
   "metadata": {},
   "outputs": [],
   "source": [
    "results_novelty = await runner.run(TaskType.NOVELTY, num_tasks=50)"
   ]
  },
  {
   "cell_type": "code",
   "execution_count": 7,
   "id": "4918d574",
   "metadata": {},
   "outputs": [],
   "source": [
    "import json\n",
    "import os\n",
    "\n",
    "thinking_dir = \"/thinking/\" if thinking else \"/non_thinking/\"\n",
    "results_dir = \"results/\" + model + thinking_dir + translator.type\n",
    "if not os.path.exists(results_dir):\n",
    "    os.makedirs(results_dir)\n",
    "\n",
    "# save results to files in the results directory\n",
    "with open(os.path.join(results_dir, \"results_novelty.json\"), \"w\") as f:\n",
    "    json.dump([result.model_dump() for result in results_novelty], f, indent=4)"
   ]
  },
  {
   "cell_type": "code",
   "execution_count": 6,
   "id": "e4c305be",
   "metadata": {},
   "outputs": [
    {
     "name": "stdout",
     "output_type": "stream",
     "text": [
      "Novelty task results: 25 out of 50 tasks were correct.\n"
     ]
    }
   ],
   "source": [
    "num_correct = sum([result.success for result in results_novelty])\n",
    "\n",
    "# print how many tasks were correct of the total number of tasks\n",
    "print(f\"Novelty task results: {num_correct} out of {len(results_novelty)} tasks were correct.\")"
   ]
  },
  {
   "cell_type": "code",
   "execution_count": null,
   "id": "3f8cf05e",
   "metadata": {},
   "outputs": [],
   "source": []
  }
 ],
 "metadata": {
  "kernelspec": {
   "display_name": "bachelor-arbeit",
   "language": "python",
   "name": "python3"
  },
  "language_info": {
   "codemirror_mode": {
    "name": "ipython",
    "version": 3
   },
   "file_extension": ".py",
   "mimetype": "text/x-python",
   "name": "python",
   "nbconvert_exporter": "python",
   "pygments_lexer": "ipython3",
   "version": "3.10.16"
  }
 },
 "nbformat": 4,
 "nbformat_minor": 5
}
