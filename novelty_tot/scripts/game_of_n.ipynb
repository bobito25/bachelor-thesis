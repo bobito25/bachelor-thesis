{
 "cells": [
  {
   "cell_type": "code",
   "execution_count": 1,
   "id": "1f1b0245",
   "metadata": {},
   "outputs": [],
   "source": [
    "instructions = \"\"\"Use the following numbers to get to the target number.\\nIn each step you may combine two numbers, never using a number twice but you must use all numbers.\\nYour allowed operations are +, -, and *.\\nStarting numbers:\\n{numbers}\\nTarget Number:\\n{target}\\n\"\"\"\n",
    "\n",
    "# example: 3, 4, 7, 9 -> -15"
   ]
  },
  {
   "cell_type": "code",
   "execution_count": 2,
   "id": "aeb17003",
   "metadata": {},
   "outputs": [],
   "source": [
    "# generate game of n instances\n",
    "\n",
    "import random\n",
    "import itertools\n",
    "\n",
    "\n",
    "def generate_instance(num_count=4, num_range=(1, 10), target_range=(-20, 20), verbose=False):\n",
    "    numbers = random.sample(range(num_range[0], num_range[1]), num_count)\n",
    "    if verbose:\n",
    "        print(\"Starting numbers:\", numbers)\n",
    "    operations = ['+', '-', '*']\n",
    "    # search for a target in range in tree\n",
    "    permutations = list(itertools.permutations(numbers))\n",
    "    op_perms = list(itertools.product(operations, repeat=num_count - 1))\n",
    "    # remove trivial op perms (all the same)\n",
    "    op_perms = [op_perm for op_perm in op_perms if not len(set(op_perm)) == 1]\n",
    "    # randomize permutations\n",
    "    random.shuffle(permutations)\n",
    "    random.shuffle(op_perms)\n",
    "    for perm in permutations:\n",
    "        for op_perm in op_perms:\n",
    "            expr = str(perm[0])\n",
    "            for i in range(1, num_count):\n",
    "                expr += f\" {op_perm[i - 1]} {perm[i]}\"\n",
    "            try:\n",
    "                result = eval(expr)\n",
    "                if result >= target_range[0] and result <= target_range[1]:\n",
    "                    if verbose:\n",
    "                        print(\"Expression:\", expr)\n",
    "                        print(\"Found target:\", result)\n",
    "                    return sorted(numbers), result, expr\n",
    "            except ZeroDivisionError:\n",
    "                continue\n",
    "\n",
    "def generate_unique_instance(num_count=4, num_range=(1, 20), target_range=(-100, 100), verbose=False):\n",
    "    # generate an instance where there is only one way to apply the operations to reach the target\n",
    "    numbers = random.sample(range(num_range[0], num_range[1]), num_count)\n",
    "    if verbose:\n",
    "        print(\"Starting numbers:\", numbers)\n",
    "    operations = ['+', '-', '*']\n",
    "    # search for a target in range in tree\n",
    "    permutations = list(itertools.permutations(numbers))\n",
    "    op_perms = list(itertools.product(operations, repeat=num_count - 1))\n",
    "    # remove trivial op perms (all the same)\n",
    "    op_perms = [op_perm for op_perm in op_perms if not len(set(op_perm)) == 1]\n",
    "    # randomize permutations\n",
    "    random.shuffle(permutations)\n",
    "    random.shuffle(op_perms)\n",
    "    results = []\n",
    "    for perm in permutations:\n",
    "        for op_perm in op_perms:\n",
    "            expr = str(perm[0])\n",
    "            for i in range(1, num_count):\n",
    "                expr += f\" {op_perm[i - 1]} {perm[i]}\"\n",
    "            try:\n",
    "                result = eval(expr)\n",
    "                if result >= target_range[0] and result <= target_range[1]:\n",
    "                    results.append((numbers, result, expr))\n",
    "            except ZeroDivisionError:\n",
    "                continue\n",
    "    # return first result with unique target\n",
    "    for res in results:\n",
    "        if sum(1 for r in results if r[1] == res[1]) == 1:\n",
    "            if verbose:\n",
    "                print(\"Expression:\", res[2])\n",
    "                print(\"Found unique target:\", res[1])\n",
    "            return sorted(res[0]), res[1], res[2]\n",
    "    if verbose:\n",
    "        print(\"No unique target found\")\n",
    "    return None"
   ]
  },
  {
   "cell_type": "code",
   "execution_count": 3,
   "id": "428285c0",
   "metadata": {},
   "outputs": [
    {
     "name": "stdout",
     "output_type": "stream",
     "text": [
      "Generated 0 instances\n"
     ]
    }
   ],
   "source": [
    "instances = []\n",
    "for _ in range(100):\n",
    "    instance = generate_unique_instance()\n",
    "    if instance:\n",
    "        instances.append(instance)\n",
    "print(\"Generated\", len(instances), \"instances\")"
   ]
  },
  {
   "cell_type": "code",
   "execution_count": 4,
   "id": "5558bbc3",
   "metadata": {},
   "outputs": [
    {
     "name": "stdout",
     "output_type": "stream",
     "text": [
      "Use the following numbers to get to the target number.\n",
      "In each step you may combine two numbers, never using a number twice but you must use all numbers.\n",
      "Your allowed operations are +, -, and *.\n",
      "Starting numbers:\n",
      "4, 6, 7, 8\n",
      "Target Number:\n",
      "-5\n",
      "\n",
      "Solution: 4 - 8 + 6 - 7\n",
      "Oneliner: Use the following numbers to get to the target number. In each step you may combine two numbers, never using a number twice but you must use all numbers. Your allowed operations are +, -, and *. Starting numbers: 4, 6, 7, 8 Target Number: -5 \n"
     ]
    }
   ],
   "source": [
    "instance = generate_instance()\n",
    "print(instructions.format(numbers=\", \".join(map(str, instance[0])), target=instance[1]))\n",
    "print(\"Solution:\", instance[2])\n",
    "\n",
    "# print as oneliner\n",
    "print(\"Oneliner:\", instructions.format(numbers=\", \".join(map(str, instance[0])), target=instance[1]).replace(\"\\n\", \" \"))"
   ]
  },
  {
   "cell_type": "code",
   "execution_count": 5,
   "id": "c8eb22ee",
   "metadata": {},
   "outputs": [
    {
     "name": "stdout",
     "output_type": "stream",
     "text": [
      "[{'numbers': [1, 2, 3, 6], 'target': -4, 'example_solution': '3 - 2 + 1 - 6'}, {'numbers': [2, 3, 5, 7], 'target': -10, 'example_solution': '7 - 2 - 5 * 3'}, {'numbers': [2, 4, 6, 8], 'target': 0, 'example_solution': '4 + 6 - 8 - 2'}, {'numbers': [1, 3, 6, 8], 'target': 12, 'example_solution': '1 + 8 + 6 - 3'}, {'numbers': [1, 2, 8, 9], 'target': 18, 'example_solution': '9 + 8 - 1 + 2'}, {'numbers': [2, 6, 7, 8], 'target': -5, 'example_solution': '7 - 8 + 2 - 6'}, {'numbers': [1, 4, 5, 9], 'target': 7, 'example_solution': '9 + 4 - 5 - 1'}, {'numbers': [2, 3, 4, 7], 'target': -2, 'example_solution': '3 + 4 - 7 - 2'}, {'numbers': [1, 3, 7, 9], 'target': 1, 'example_solution': '7 + 3 - 9 * 1'}, {'numbers': [1, 3, 6, 7], 'target': 2, 'example_solution': '1 * 3 + 6 - 7'}, {'numbers': [3, 6, 7, 9], 'target': -1, 'example_solution': '3 - 7 - 6 + 9'}, {'numbers': [2, 4, 7, 8], 'target': -9, 'example_solution': '4 - 8 + 2 - 7'}, {'numbers': [2, 3, 6, 7], 'target': 0, 'example_solution': '7 + 2 - 3 - 6'}, {'numbers': [1, 2, 3, 8], 'target': 13, 'example_solution': '3 * 1 + 2 + 8'}, {'numbers': [1, 4, 5, 7], 'target': 15, 'example_solution': '7 + 5 + 4 - 1'}, {'numbers': [1, 3, 4, 6], 'target': -5, 'example_solution': '4 - 6 * 1 - 3'}, {'numbers': [2, 3, 7, 9], 'target': 15, 'example_solution': '9 - 3 + 7 + 2'}, {'numbers': [1, 2, 5, 8], 'target': -1, 'example_solution': '2 * 1 - 8 + 5'}, {'numbers': [2, 5, 7, 8], 'target': 14, 'example_solution': '5 + 2 * 8 - 7'}, {'numbers': [3, 6, 7, 8], 'target': -3, 'example_solution': '8 - 6 * 3 + 7'}, {'numbers': [1, 2, 4, 7], 'target': 5, 'example_solution': '1 * 2 - 4 + 7'}, {'numbers': [1, 3, 4, 7], 'target': 6, 'example_solution': '7 - 4 * 1 + 3'}, {'numbers': [2, 6, 7, 9], 'target': 2, 'example_solution': '6 + 7 - 9 - 2'}, {'numbers': [3, 5, 6, 7], 'target': 20, 'example_solution': '5 - 6 + 7 * 3'}, {'numbers': [5, 6, 7, 9], 'target': -20, 'example_solution': '9 + 6 - 7 * 5'}, {'numbers': [1, 3, 4, 9], 'target': -9, 'example_solution': '1 - 4 + 3 - 9'}, {'numbers': [2, 4, 5, 9], 'target': 2, 'example_solution': '9 - 5 - 4 + 2'}, {'numbers': [1, 4, 7, 8], 'target': -20, 'example_solution': '1 * 8 - 7 * 4'}, {'numbers': [1, 2, 7, 9], 'target': 18, 'example_solution': '1 * 7 + 9 + 2'}, {'numbers': [1, 2, 3, 7], 'target': -1, 'example_solution': '1 + 3 + 2 - 7'}, {'numbers': [1, 4, 5, 8], 'target': -6, 'example_solution': '1 - 8 + 5 - 4'}, {'numbers': [2, 4, 5, 8], 'target': -2, 'example_solution': '5 * 2 - 8 - 4'}, {'numbers': [1, 3, 5, 9], 'target': -10, 'example_solution': '3 - 5 + 1 - 9'}, {'numbers': [3, 4, 5, 7], 'target': -3, 'example_solution': '5 - 7 - 4 + 3'}, {'numbers': [1, 3, 8, 9], 'target': 15, 'example_solution': '9 + 1 - 3 + 8'}, {'numbers': [1, 5, 6, 8], 'target': 9, 'example_solution': '1 * 6 + 8 - 5'}, {'numbers': [2, 3, 5, 9], 'target': -9, 'example_solution': '2 + 3 - 9 - 5'}, {'numbers': [1, 2, 6, 9], 'target': 14, 'example_solution': '6 + 9 + 1 - 2'}, {'numbers': [1, 2, 4, 7], 'target': 9, 'example_solution': '1 * 7 - 2 + 4'}, {'numbers': [3, 7, 8, 9], 'target': 11, 'example_solution': '3 + 7 + 9 - 8'}, {'numbers': [1, 2, 4, 6], 'target': -3, 'example_solution': '6 - 1 - 4 * 2'}, {'numbers': [2, 5, 6, 9], 'target': -8, 'example_solution': '2 - 9 - 6 + 5'}, {'numbers': [3, 4, 5, 8], 'target': 15, 'example_solution': '3 * 4 + 8 - 5'}, {'numbers': [5, 6, 8, 9], 'target': 0, 'example_solution': '8 - 5 + 6 - 9'}, {'numbers': [3, 4, 6, 7], 'target': 19, 'example_solution': '4 + 7 * 3 - 6'}, {'numbers': [1, 2, 8, 9], 'target': 16, 'example_solution': '1 + 9 + 8 - 2'}, {'numbers': [3, 4, 7, 9], 'target': -9, 'example_solution': '4 - 9 + 3 - 7'}, {'numbers': [3, 5, 6, 8], 'target': -13, 'example_solution': '5 - 3 * 8 + 6'}, {'numbers': [3, 4, 7, 8], 'target': 16, 'example_solution': '7 + 8 + 4 - 3'}, {'numbers': [5, 7, 8, 9], 'target': -3, 'example_solution': '5 - 9 - 7 + 8'}]\n"
     ]
    }
   ],
   "source": [
    "import random\n",
    "random.seed(42)\n",
    "\n",
    "# generate dataset with dicts with \"numbers\", \"target\" and \"example_solution\" keys\n",
    "dataset = []\n",
    "for _ in range(50):\n",
    "    instance = generate_instance()\n",
    "    dataset.append({\n",
    "        \"numbers\": instance[0],\n",
    "        \"target\": instance[1],\n",
    "        \"example_solution\": instance[2]\n",
    "    })\n",
    "print(dataset)\n",
    "\n",
    "# save dataset to json file\n",
    "import json\n",
    "\n",
    "with open(\"test_data/game_of_n.json\", \"w\") as f:\n",
    "    json.dump(dataset, f, indent=4)"
   ]
  },
  {
   "cell_type": "code",
   "execution_count": 8,
   "id": "117eda48",
   "metadata": {},
   "outputs": [],
   "source": [
    "eval(\"None\")"
   ]
  },
  {
   "cell_type": "code",
   "execution_count": null,
   "id": "2b01f889",
   "metadata": {},
   "outputs": [],
   "source": []
  }
 ],
 "metadata": {
  "kernelspec": {
   "display_name": "bachelor-arbeit",
   "language": "python",
   "name": "python3"
  },
  "language_info": {
   "codemirror_mode": {
    "name": "ipython",
    "version": 3
   },
   "file_extension": ".py",
   "mimetype": "text/x-python",
   "name": "python",
   "nbconvert_exporter": "python",
   "pygments_lexer": "ipython3",
   "version": "3.10.16"
  }
 },
 "nbformat": 4,
 "nbformat_minor": 5
}
