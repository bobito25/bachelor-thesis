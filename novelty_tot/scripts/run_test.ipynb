{
 "cells": [
  {
   "cell_type": "code",
   "execution_count": 1,
   "id": "5c7114f4",
   "metadata": {},
   "outputs": [
    {
     "ename": "FileNotFoundError",
     "evalue": "[Errno 2] No such file or directory: './task_1_plan_generation.json'",
     "output_type": "error",
     "traceback": [
      "\u001b[1;31m---------------------------------------------------------------------------\u001b[0m",
      "\u001b[1;31mFileNotFoundError\u001b[0m                         Traceback (most recent call last)",
      "Cell \u001b[1;32mIn[1], line 3\u001b[0m\n\u001b[0;32m      1\u001b[0m \u001b[38;5;66;03m# get tasks from json file\u001b[39;00m\n\u001b[0;32m      2\u001b[0m \u001b[38;5;28;01mimport\u001b[39;00m\u001b[38;5;250m \u001b[39m\u001b[38;5;21;01mjson\u001b[39;00m\n\u001b[1;32m----> 3\u001b[0m \u001b[38;5;28;01mwith\u001b[39;00m \u001b[38;5;28;43mopen\u001b[39;49m\u001b[43m(\u001b[49m\u001b[38;5;124;43m'\u001b[39;49m\u001b[38;5;124;43m./task_1_plan_generation.json\u001b[39;49m\u001b[38;5;124;43m'\u001b[39;49m\u001b[43m,\u001b[49m\u001b[43m \u001b[49m\u001b[38;5;124;43m'\u001b[39;49m\u001b[38;5;124;43mr\u001b[39;49m\u001b[38;5;124;43m'\u001b[39;49m\u001b[43m)\u001b[49m \u001b[38;5;28;01mas\u001b[39;00m f:\n\u001b[0;32m      4\u001b[0m     tasks_json \u001b[38;5;241m=\u001b[39m f\u001b[38;5;241m.\u001b[39mread()\n\u001b[0;32m      5\u001b[0m complete_tasks_obj \u001b[38;5;241m=\u001b[39m json\u001b[38;5;241m.\u001b[39mloads(tasks_json)\n",
      "File \u001b[1;32mc:\\Users\\Leon\\miniconda3\\envs\\bachelor_arbeit\\lib\\site-packages\\IPython\\core\\interactiveshell.py:324\u001b[0m, in \u001b[0;36m_modified_open\u001b[1;34m(file, *args, **kwargs)\u001b[0m\n\u001b[0;32m    317\u001b[0m \u001b[38;5;28;01mif\u001b[39;00m file \u001b[38;5;129;01min\u001b[39;00m {\u001b[38;5;241m0\u001b[39m, \u001b[38;5;241m1\u001b[39m, \u001b[38;5;241m2\u001b[39m}:\n\u001b[0;32m    318\u001b[0m     \u001b[38;5;28;01mraise\u001b[39;00m \u001b[38;5;167;01mValueError\u001b[39;00m(\n\u001b[0;32m    319\u001b[0m         \u001b[38;5;124mf\u001b[39m\u001b[38;5;124m\"\u001b[39m\u001b[38;5;124mIPython won\u001b[39m\u001b[38;5;124m'\u001b[39m\u001b[38;5;124mt let you open fd=\u001b[39m\u001b[38;5;132;01m{\u001b[39;00mfile\u001b[38;5;132;01m}\u001b[39;00m\u001b[38;5;124m by default \u001b[39m\u001b[38;5;124m\"\u001b[39m\n\u001b[0;32m    320\u001b[0m         \u001b[38;5;124m\"\u001b[39m\u001b[38;5;124mas it is likely to crash IPython. If you know what you are doing, \u001b[39m\u001b[38;5;124m\"\u001b[39m\n\u001b[0;32m    321\u001b[0m         \u001b[38;5;124m\"\u001b[39m\u001b[38;5;124myou can use builtins\u001b[39m\u001b[38;5;124m'\u001b[39m\u001b[38;5;124m open.\u001b[39m\u001b[38;5;124m\"\u001b[39m\n\u001b[0;32m    322\u001b[0m     )\n\u001b[1;32m--> 324\u001b[0m \u001b[38;5;28;01mreturn\u001b[39;00m io_open(file, \u001b[38;5;241m*\u001b[39margs, \u001b[38;5;241m*\u001b[39m\u001b[38;5;241m*\u001b[39mkwargs)\n",
      "\u001b[1;31mFileNotFoundError\u001b[0m: [Errno 2] No such file or directory: './task_1_plan_generation.json'"
     ]
    }
   ],
   "source": [
    "# get tasks from json file\n",
    "import json\n",
    "with open('./task_1_plan_generation.json', 'r') as f:\n",
    "    tasks_json = f.read()\n",
    "complete_tasks_obj = json.loads(tasks_json)\n",
    "task_objs = complete_tasks_obj['instances']"
   ]
  },
  {
   "cell_type": "code",
   "execution_count": null,
   "id": "078c8920",
   "metadata": {},
   "outputs": [],
   "source": [
    "from dataclasses import dataclass\n",
    "\n",
    "@dataclass\n",
    "class Task:\n",
    "    id: str\n",
    "    query: str\n",
    "    solution: str"
   ]
  },
  {
   "cell_type": "code",
   "execution_count": null,
   "id": "4eba96cb",
   "metadata": {},
   "outputs": [],
   "source": [
    "tasks = []\n",
    "for task_obj in task_objs:\n",
    "    task = Task(\n",
    "        id=task_obj['instance_id'],\n",
    "        query=task_obj['query'],\n",
    "        solution=task_obj['ground_truth_plan']\n",
    "    )\n",
    "    tasks.append(task)"
   ]
  },
  {
   "cell_type": "code",
   "execution_count": 2,
   "id": "1b4d4765",
   "metadata": {},
   "outputs": [
    {
     "ename": "NameError",
     "evalue": "name 'tasks' is not defined",
     "output_type": "error",
     "traceback": [
      "\u001b[1;31m---------------------------------------------------------------------------\u001b[0m",
      "\u001b[1;31mNameError\u001b[0m                                 Traceback (most recent call last)",
      "Cell \u001b[1;32mIn[2], line 1\u001b[0m\n\u001b[1;32m----> 1\u001b[0m \u001b[38;5;28mprint\u001b[39m(\u001b[38;5;124mf\u001b[39m\u001b[38;5;124m\"\u001b[39m\u001b[38;5;124mLoaded \u001b[39m\u001b[38;5;132;01m{\u001b[39;00m\u001b[38;5;28mlen\u001b[39m(\u001b[43mtasks\u001b[49m)\u001b[38;5;132;01m}\u001b[39;00m\u001b[38;5;124m tasks from JSON file.\u001b[39m\u001b[38;5;124m\"\u001b[39m)\n\u001b[0;32m      2\u001b[0m \u001b[38;5;28mprint\u001b[39m(\u001b[38;5;124m\"\u001b[39m\u001b[38;5;124mExample task:\u001b[39m\u001b[38;5;124m\"\u001b[39m)\n\u001b[0;32m      3\u001b[0m \u001b[38;5;28mprint\u001b[39m(tasks[\u001b[38;5;241m0\u001b[39m])\n",
      "\u001b[1;31mNameError\u001b[0m: name 'tasks' is not defined"
     ]
    }
   ],
   "source": [
    "print(f\"Loaded {len(tasks)} tasks from JSON file.\")\n",
    "print(\"Example task:\")\n",
    "print(tasks[0])"
   ]
  },
  {
   "cell_type": "code",
   "execution_count": 13,
   "id": "47c63933",
   "metadata": {},
   "outputs": [],
   "source": [
    "from tot import TreeOfThoughts\n",
    "\n",
    "@dataclass\n",
    "class Result:\n",
    "    task_id: str\n",
    "    success: bool\n",
    "    answer: str\n",
    "\n",
    "async def run_task(tot: TreeOfThoughts, task: Task) -> Result:\n",
    "    # Run the task using the Tree of Thoughts framework\n",
    "    success, answer = await tot.run_against(task.query, task.solution)\n",
    "    return Result(\n",
    "        task_id=task.id,\n",
    "        success=success,\n",
    "        answer=answer\n",
    "    )\n",
    "\n",
    "async def run_tasks(tot: TreeOfThoughts, tasks: list[Task]) -> list[Result]:\n",
    "    results = []\n",
    "    for task in tasks:\n",
    "        result = await run_task(tot, task)\n",
    "        results.append(result)\n",
    "    return results"
   ]
  },
  {
   "cell_type": "code",
   "execution_count": null,
   "id": "21a20b6b",
   "metadata": {},
   "outputs": [],
   "source": [
    "from llm_engine import Engine\n",
    "from dotenv import load_dotenv\n",
    "import os\n",
    "from openai import AsyncOpenAI\n",
    "from tot_config import Configuration\n",
    "\n",
    "mode = \"openai\"\n",
    "\n",
    "if mode == \"openai\":\n",
    "    # OpenAI client\n",
    "    load_dotenv(\".env\")\n",
    "\n",
    "    OPENAI_API_KEY = os.environ.get(\"OPENAI_API_KEY\")\n",
    "\n",
    "    client_openai = AsyncOpenAI(api_key=OPENAI_API_KEY)\n",
    "\n",
    "    engine = Engine(client_openai, chat=True, model=\"gpt-4o-mini\")\n",
    "\n",
    "elif mode == \"vllm\":\n",
    "    NGROK_LINK = \"https://\" + \"fitting-shrimp-pleasantly.ngrok-free.app\"\n",
    "\n",
    "    client_vllm = AsyncOpenAI(\n",
    "        api_key=\"None\",\n",
    "        base_url=str(NGROK_LINK + \"/v1\")\n",
    "    )\n",
    "\n",
    "    engine = Engine(client_vllm, chat=True, model=\"Qwen/Qwen2.5-32B-Instruct-GPTQ-Int8\")\n",
    "\n",
    "else:\n",
    "    raise ValueError(\"Invalid mode. Choose 'openai' or 'vllm'\")\n",
    "\n",
    "tot = TreeOfThoughts(\n",
    "    llm_engine=engine,\n",
    "    goal_verifier=None,\n",
    "    max_depth=1,\n",
    "    branch_factor=2,\n",
    "    config=Configuration.from_file(\"base\")\n",
    ")\n"
   ]
  },
  {
   "cell_type": "code",
   "execution_count": 15,
   "id": "bd651c93",
   "metadata": {},
   "outputs": [
    {
     "name": "stdout",
     "output_type": "stream",
     "text": [
      "INFO:root:Starting 2 parallel LLM requests at depth 1 (parent uuid: 9d0f8969ae3b4f43b3ba82f098e4291b)\n",
      "INFO:root:Processing branch at depth 1 (parent uuid: 9d0f8969ae3b4f43b3ba82f098e4291b)\n",
      "INFO:root:Processing branch at depth 1 (parent uuid: 9d0f8969ae3b4f43b3ba82f098e4291b)\n",
      "INFO:httpx:HTTP Request: POST https://fitting-shrimp-pleasantly.ngrok-free.app/v1/chat/completions \"HTTP/1.1 200 OK\"\n",
      "INFO:httpx:HTTP Request: POST https://fitting-shrimp-pleasantly.ngrok-free.app/v1/chat/completions \"HTTP/1.1 200 OK\"\n",
      "INFO:root:Generated successor at depth 1 (parent uuid: 9d0f8969ae3b4f43b3ba82f098e4291b)\n",
      "INFO:httpx:HTTP Request: POST https://fitting-shrimp-pleasantly.ngrok-free.app/v1/chat/completions \"HTTP/1.1 200 OK\"\n",
      "INFO:httpx:HTTP Request: POST https://fitting-shrimp-pleasantly.ngrok-free.app/v1/chat/completions \"HTTP/1.1 200 OK\"\n",
      "INFO:root:Generated successor at depth 1 (parent uuid: 9d0f8969ae3b4f43b3ba82f098e4291b)\n",
      "INFO:root:Finished 2 parallel LLM requests at depth 1 (parent uuid: 9d0f8969ae3b4f43b3ba82f098e4291b)\n",
      "Task ID: 2\n",
      "Success: False\n",
      "Answer: None\n"
     ]
    }
   ],
   "source": [
    "#tasks[0].query = \"I am playing with a set of blocks where I need to arrange the blocks into stacks. Here are the actions I can do\\n\\nPick up a block\\nUnstack a block from on top of another block\\nPut down a block\\nStack a block on top of another block\\n\\nI have the following restrictions on my actions:\\nI can only pick up or unstack one block at a time.\\nI can only pick up or unstack a block if my hand is empty.\\nI can only pick up a block if the block is on the table and the block is clear. A block is clear if the block has no other blocks on top of it and if the block is not picked up.\\nI can only unstack a block from on top of another block if the block I am unstacking was really on top of the other block.\\nI can only unstack a block from on top of another block if the block I am unstacking is clear.\\nOnce I pick up or unstack a block, I am holding the block.\\nI can only put down a block that I am holding.\\nI can only stack a block on top of another block if I am holding the block being stacked.\\nI can only stack a block on top of another block if the block onto which I am stacking the block is clear.\\nOnce I put down or stack a block, my hand becomes empty.\\nOnce you stack a block on top of a second block, the second block is no longer clear.\\n\\n[STATEMENT]\\nAs initial conditions I have that, the red block is clear, the blue block is clear, the yellow block is clear, the hand is empty, the blue block is on top of the orange block, the red block is on the table, the orange block is on the table and the yellow block is on the table.\\nMy goal is to have that the orange block is on top of the blue block.\\n\\nMy plan is as follows:\\n\\n[PLAN]\\nunstack the blue block from on top of the orange block\\nput down the blue block\\npick up the orange block\\nstack the orange block on top of the blue block\\n[PLAN END]\\n\\n[STATEMENT]\\nAs initial conditions I have that, the red block is clear, the yellow block is clear, the hand is empty, the red block is on top of the blue block, the yellow block is on top of the orange block, the blue block is on the table and the orange block is on the table.\\nMy goal is to have that the orange block is on top of the red block.\\n\\nMy plan is as follows:\\n\\n[PLAN]\"\n",
    "tasks[0].query = \"I am playing with a set of blocks where I need to arrange the blocks into stacks. Here are the actions I can do\\n\\nPick up a block\\nUnstack a block from on top of another block\\nPut down a block\\nStack a block on top of another block\\n\\nI have the following restrictions on my actions:\\nI can only pick up or unstack one block at a time.\\nI can only pick up or unstack a block if my hand is empty.\\nI can only pick up a block if the block is on the table and the block is clear. A block is clear if the block has no other blocks on top of it and if the block is not picked up.\\nI can only unstack a block from on top of another block if the block I am unstacking was really on top of the other block.\\nI can only unstack a block from on top of another block if the block I am unstacking is clear.\\nOnce I pick up or unstack a block, I am holding the block.\\nI can only put down a block that I am holding.\\nI can only stack a block on top of another block if I am holding the block being stacked.\\nI can only stack a block on top of another block if the block onto which I am stacking the block is clear.\\nOnce I put down or stack a block, my hand becomes empty.\\nOnce you stack a block on top of a second block, the second block is no longer clear.\\n\\n[STATEMENT]\\nAs initial conditions I have that, the red block is clear, the yellow block is clear, the hand is empty, the red block is on top of the blue block, the yellow block is on top of the orange block, the blue block is on the table and the orange block is on the table.\\nMy goal is to have that the orange block is on top of the red block.\\n\\nMy plan is as follows:\\n\\n[PLAN]\"\n",
    "\n",
    "# set logging to info\n",
    "import logging\n",
    "import sys\n",
    "logging.basicConfig(level=logging.INFO, handlers=[logging.StreamHandler(sys.stdout)], force=True)\n",
    "\n",
    "results = await run_task(tot, tasks[0])\n",
    "\n",
    "print(f\"Task ID: {results.task_id}\")\n",
    "print(f\"Success: {results.success}\")\n",
    "print(f\"Answer: {results.answer}\")"
   ]
  },
  {
   "cell_type": "code",
   "execution_count": 8,
   "id": "722a054e",
   "metadata": {},
   "outputs": [],
   "source": [
    "# save tree to file as json\n",
    "import json\n",
    "with open(\"tot.json\", \"w\") as f:\n",
    "    f.write(tot.serialize())\n",
    "with open(\"tree.json\", \"w\") as f:\n",
    "    f.write(json.dumps(tot.init_state.to_dict(), indent=4))"
   ]
  },
  {
   "cell_type": "code",
   "execution_count": 9,
   "id": "3a07da7a",
   "metadata": {},
   "outputs": [],
   "source": [
    "from tot import TreeOfThoughts\n",
    "import json\n",
    "# load tree from file as json\n",
    "with open(\"tree.json\", \"r\") as f:\n",
    "    tree = json.load(f)\n",
    "    tree = TreeOfThoughts.State.from_dict(tree)"
   ]
  },
  {
   "cell_type": "code",
   "execution_count": 12,
   "id": "0664ae64",
   "metadata": {},
   "outputs": [
    {
     "name": "stdout",
     "output_type": "stream",
     "text": [
      "INFO:qdarkstyle:QSS file successfully loaded.\n",
      "INFO:qdarkstyle:Found application patches to be applied.\n"
     ]
    },
    {
     "data": {
      "text/plain": [
       "0"
      ]
     },
     "execution_count": 12,
     "metadata": {},
     "output_type": "execute_result"
    }
   ],
   "source": [
    "from tree_gui import get_tree_view\n",
    "from PySide6.QtWidgets import QApplication\n",
    "import qdarkstyle\n",
    "\n",
    "# Create a tree view using the TreeOfThoughts class\n",
    "app = QApplication.instance()\n",
    "if not app:\n",
    "    app = QApplication([])\n",
    "app.setStyleSheet(qdarkstyle.load_stylesheet(qt_api='pyside6'))\n",
    "tree_view = get_tree_view(tree, 80, 150)\n",
    "tree_view.show()\n",
    "app.exec()"
   ]
  },
  {
   "cell_type": "code",
   "execution_count": 1,
   "id": "d07a5b05",
   "metadata": {},
   "outputs": [],
   "source": [
    "from tot_config import Configuration\n",
    "\n",
    "base_config = Configuration(\n",
    "    succ_prompt=\"You are a smart assistant that answers concisely.\\nYou will be given a problem / question to solve.\\nYou must output exactly the next step in solving the problem when prompted with [NEXT]. Output [FINISHED] when you are finished with solving the problem.\\nThis is your problem statement:\",\n",
    "    gen_succ_prompt=\"[NEXT]\\n\",\n",
    ")\n",
    "\n",
    "stream_config = Configuration(\n",
    "    stream_prompt=\"You are a smart assistant that answers concisely.\\nYou will be given a problem / question to solve.\\nOutput [FINISHED] when you are done. This is your problem statement:\",\n",
    ")\n",
    "\n",
    "base_config.to_file(\"base\")\n",
    "\n",
    "stream_config.to_file(\"stream\")\n"
   ]
  },
  {
   "cell_type": "code",
   "execution_count": null,
   "id": "9eeefaab",
   "metadata": {},
   "outputs": [],
   "source": []
  }
 ],
 "metadata": {
  "kernelspec": {
   "display_name": "bachelor-arbeit",
   "language": "python",
   "name": "python3"
  },
  "language_info": {
   "codemirror_mode": {
    "name": "ipython",
    "version": 3
   },
   "file_extension": ".py",
   "mimetype": "text/x-python",
   "name": "python",
   "nbconvert_exporter": "python",
   "pygments_lexer": "ipython3",
   "version": "3.10.16"
  }
 },
 "nbformat": 4,
 "nbformat_minor": 5
}
